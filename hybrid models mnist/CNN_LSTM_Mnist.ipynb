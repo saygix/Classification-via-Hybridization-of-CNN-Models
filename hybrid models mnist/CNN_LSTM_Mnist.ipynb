{
  "nbformat": 4,
  "nbformat_minor": 0,
  "metadata": {
    "colab": {
      "provenance": [],
      "gpuType": "T4"
    },
    "kernelspec": {
      "name": "python3",
      "display_name": "Python 3"
    },
    "language_info": {
      "name": "python"
    },
    "accelerator": "GPU",
    "gpuClass": "standard"
  },
  "cells": [
    {
      "cell_type": "code",
      "source": [
        "import numpy as np\n",
        "import tensorflow as tf\n",
        "from tensorflow.keras.datasets import mnist\n",
        "from tensorflow.keras.models import Sequential\n",
        "from tensorflow.keras.layers import Reshape, Dense, Dropout, LSTM, Conv2D, MaxPooling2D, Flatten\n",
        "from tensorflow.keras.utils import to_categorical"
      ],
      "metadata": {
        "id": "47oUGVzPVNxw"
      },
      "execution_count": null,
      "outputs": []
    },
    {
      "cell_type": "code",
      "source": [
        "# MNIST veri kümesini yükle\n",
        "(x_train, y_train), (x_test, y_test) = mnist.load_data()"
      ],
      "metadata": {
        "id": "EVSQGrQyVO7q",
        "colab": {
          "base_uri": "https://localhost:8080/"
        },
        "outputId": "0e0083d2-825b-4029-abc2-83208211f7a2"
      },
      "execution_count": null,
      "outputs": [
        {
          "output_type": "stream",
          "name": "stdout",
          "text": [
            "Downloading data from https://storage.googleapis.com/tensorflow/tf-keras-datasets/mnist.npz\n",
            "11490434/11490434 [==============================] - 2s 0us/step\n"
          ]
        }
      ]
    },
    {
      "cell_type": "code",
      "source": [
        "# Verileri yeniden şekillendirme\n",
        "x_train = x_train.reshape((x_train.shape[0], 28, 28, 1))\n",
        "x_test = x_test.reshape((x_test.shape[0], 28, 28, 1))"
      ],
      "metadata": {
        "id": "-uQUoe6mVWJT"
      },
      "execution_count": null,
      "outputs": []
    },
    {
      "cell_type": "code",
      "source": [
        "# Verileri normalize etme\n",
        "x_train = x_train.astype('float32') / 255.0\n",
        "x_test = x_test.astype('float32') / 255.0"
      ],
      "metadata": {
        "id": "Ast2BNj4VWMj"
      },
      "execution_count": null,
      "outputs": []
    },
    {
      "cell_type": "code",
      "source": [
        "# Hedef değişkenleri kategorik hale getirme\n",
        "y_train = to_categorical(y_train)\n",
        "y_test = to_categorical(y_test)"
      ],
      "metadata": {
        "id": "YYHhCsgwVWPT"
      },
      "execution_count": null,
      "outputs": []
    },
    {
      "cell_type": "code",
      "source": [
        "# Model tanımlama\n",
        "model = Sequential()\n",
        "model.add(Conv2D(32, kernel_size=(3, 3), activation='relu', input_shape=(28, 28, 1)))\n",
        "model.add(MaxPooling2D((2,2)))\n",
        "model.add(Conv2D(64, (3,3), activation='relu'))\n",
        "model.add(MaxPooling2D((2,2)))\n",
        "model.add(Conv2D(128, (3,3), activation='relu'))\n",
        "model.add(MaxPooling2D((2,2)))\n",
        "\n",
        "# LSTM layer\n",
        "model.add(Reshape((-1, 128)))\n",
        "model.add(LSTM(64, return_sequences=True))\n",
        "model.add(Dropout(0.2))\n",
        "model.add(Flatten())\n",
        "\n",
        "# Fully connected layerlar\n",
        "model.add(Dense(64, activation='relu'))\n",
        "model.add(Dropout(0.2))\n",
        "model.add(Dense(10, activation='sigmoid'))"
      ],
      "metadata": {
        "id": "psNIovz5VfK8"
      },
      "execution_count": null,
      "outputs": []
    },
    {
      "cell_type": "code",
      "source": [
        "model.summary()"
      ],
      "metadata": {
        "colab": {
          "base_uri": "https://localhost:8080/"
        },
        "id": "1CNwWZGOZ0aY",
        "outputId": "419e0598-64ce-444b-bf82-0234adfa8ded"
      },
      "execution_count": null,
      "outputs": [
        {
          "output_type": "stream",
          "name": "stdout",
          "text": [
            "Model: \"sequential\"\n",
            "_________________________________________________________________\n",
            " Layer (type)                Output Shape              Param #   \n",
            "=================================================================\n",
            " conv2d (Conv2D)             (None, 26, 26, 32)        320       \n",
            "                                                                 \n",
            " max_pooling2d (MaxPooling2D  (None, 13, 13, 32)       0         \n",
            " )                                                               \n",
            "                                                                 \n",
            " conv2d_1 (Conv2D)           (None, 11, 11, 64)        18496     \n",
            "                                                                 \n",
            " max_pooling2d_1 (MaxPooling  (None, 5, 5, 64)         0         \n",
            " 2D)                                                             \n",
            "                                                                 \n",
            " conv2d_2 (Conv2D)           (None, 3, 3, 128)         73856     \n",
            "                                                                 \n",
            " max_pooling2d_2 (MaxPooling  (None, 1, 1, 128)        0         \n",
            " 2D)                                                             \n",
            "                                                                 \n",
            " reshape (Reshape)           (None, 1, 128)            0         \n",
            "                                                                 \n",
            " lstm (LSTM)                 (None, 1, 64)             49408     \n",
            "                                                                 \n",
            " dropout (Dropout)           (None, 1, 64)             0         \n",
            "                                                                 \n",
            " flatten (Flatten)           (None, 64)                0         \n",
            "                                                                 \n",
            " dense (Dense)               (None, 64)                4160      \n",
            "                                                                 \n",
            " dropout_1 (Dropout)         (None, 64)                0         \n",
            "                                                                 \n",
            " dense_1 (Dense)             (None, 10)                650       \n",
            "                                                                 \n",
            "=================================================================\n",
            "Total params: 146,890\n",
            "Trainable params: 146,890\n",
            "Non-trainable params: 0\n",
            "_________________________________________________________________\n"
          ]
        }
      ]
    },
    {
      "cell_type": "code",
      "source": [
        "# Model derleme\n",
        "model.compile(loss='categorical_crossentropy', optimizer='adam', metrics=['accuracy'])\n"
      ],
      "metadata": {
        "id": "-tnDTZSvVfQC"
      },
      "execution_count": null,
      "outputs": []
    },
    {
      "cell_type": "code",
      "source": [
        "# Model eğitimi\n",
        "history = model.fit(x_train, y_train, epochs=100, batch_size=128, validation_data=(x_test, y_test))"
      ],
      "metadata": {
        "colab": {
          "base_uri": "https://localhost:8080/"
        },
        "id": "Uyr5illjVfTz",
        "outputId": "e8b2fe43-3b32-462a-f988-03bd03f6275e"
      },
      "execution_count": null,
      "outputs": [
        {
          "output_type": "stream",
          "name": "stdout",
          "text": [
            "Epoch 1/100\n",
            "469/469 [==============================] - 19s 11ms/step - loss: 0.4391 - accuracy: 0.8642 - val_loss: 0.1179 - val_accuracy: 0.9647\n",
            "Epoch 2/100\n",
            "469/469 [==============================] - 4s 8ms/step - loss: 0.1192 - accuracy: 0.9661 - val_loss: 0.0692 - val_accuracy: 0.9794\n",
            "Epoch 3/100\n",
            "469/469 [==============================] - 4s 8ms/step - loss: 0.0836 - accuracy: 0.9765 - val_loss: 0.0617 - val_accuracy: 0.9825\n",
            "Epoch 4/100\n",
            "469/469 [==============================] - 5s 10ms/step - loss: 0.0652 - accuracy: 0.9811 - val_loss: 0.0575 - val_accuracy: 0.9820\n",
            "Epoch 5/100\n",
            "469/469 [==============================] - 4s 8ms/step - loss: 0.0562 - accuracy: 0.9833 - val_loss: 0.0504 - val_accuracy: 0.9850\n",
            "Epoch 6/100\n",
            "469/469 [==============================] - 4s 8ms/step - loss: 0.0458 - accuracy: 0.9865 - val_loss: 0.0538 - val_accuracy: 0.9847\n",
            "Epoch 7/100\n",
            "469/469 [==============================] - 5s 10ms/step - loss: 0.0390 - accuracy: 0.9883 - val_loss: 0.0476 - val_accuracy: 0.9850\n",
            "Epoch 8/100\n",
            "469/469 [==============================] - 4s 8ms/step - loss: 0.0352 - accuracy: 0.9895 - val_loss: 0.0467 - val_accuracy: 0.9868\n",
            "Epoch 9/100\n",
            "469/469 [==============================] - 4s 8ms/step - loss: 0.0290 - accuracy: 0.9916 - val_loss: 0.0434 - val_accuracy: 0.9872\n",
            "Epoch 10/100\n",
            "469/469 [==============================] - 5s 10ms/step - loss: 0.0231 - accuracy: 0.9932 - val_loss: 0.0462 - val_accuracy: 0.9868\n",
            "Epoch 11/100\n",
            "469/469 [==============================] - 4s 8ms/step - loss: 0.0227 - accuracy: 0.9931 - val_loss: 0.0495 - val_accuracy: 0.9862\n",
            "Epoch 12/100\n",
            "469/469 [==============================] - 4s 8ms/step - loss: 0.0185 - accuracy: 0.9944 - val_loss: 0.0587 - val_accuracy: 0.9855\n",
            "Epoch 13/100\n",
            "469/469 [==============================] - 5s 10ms/step - loss: 0.0190 - accuracy: 0.9941 - val_loss: 0.0452 - val_accuracy: 0.9883\n",
            "Epoch 14/100\n",
            "469/469 [==============================] - 4s 9ms/step - loss: 0.0152 - accuracy: 0.9953 - val_loss: 0.0442 - val_accuracy: 0.9889\n",
            "Epoch 15/100\n",
            "469/469 [==============================] - 4s 8ms/step - loss: 0.0140 - accuracy: 0.9955 - val_loss: 0.0508 - val_accuracy: 0.9881\n",
            "Epoch 16/100\n",
            "469/469 [==============================] - 5s 10ms/step - loss: 0.0152 - accuracy: 0.9952 - val_loss: 0.0493 - val_accuracy: 0.9884\n",
            "Epoch 17/100\n",
            "469/469 [==============================] - 4s 8ms/step - loss: 0.0104 - accuracy: 0.9969 - val_loss: 0.0661 - val_accuracy: 0.9854\n",
            "Epoch 18/100\n",
            "469/469 [==============================] - 4s 9ms/step - loss: 0.0119 - accuracy: 0.9964 - val_loss: 0.0643 - val_accuracy: 0.9852\n",
            "Epoch 19/100\n",
            "469/469 [==============================] - 5s 10ms/step - loss: 0.0093 - accuracy: 0.9970 - val_loss: 0.0537 - val_accuracy: 0.9889\n",
            "Epoch 20/100\n",
            "469/469 [==============================] - 4s 9ms/step - loss: 0.0100 - accuracy: 0.9969 - val_loss: 0.0538 - val_accuracy: 0.9893\n",
            "Epoch 21/100\n",
            "469/469 [==============================] - 4s 8ms/step - loss: 0.0087 - accuracy: 0.9972 - val_loss: 0.0607 - val_accuracy: 0.9879\n",
            "Epoch 22/100\n",
            "469/469 [==============================] - 5s 10ms/step - loss: 0.0099 - accuracy: 0.9970 - val_loss: 0.0498 - val_accuracy: 0.9904\n",
            "Epoch 23/100\n",
            "469/469 [==============================] - 4s 9ms/step - loss: 0.0083 - accuracy: 0.9974 - val_loss: 0.0516 - val_accuracy: 0.9882\n",
            "Epoch 24/100\n",
            "469/469 [==============================] - 4s 9ms/step - loss: 0.0088 - accuracy: 0.9972 - val_loss: 0.0570 - val_accuracy: 0.9869\n",
            "Epoch 25/100\n",
            "469/469 [==============================] - 5s 10ms/step - loss: 0.0073 - accuracy: 0.9980 - val_loss: 0.0527 - val_accuracy: 0.9886\n",
            "Epoch 26/100\n",
            "469/469 [==============================] - 4s 9ms/step - loss: 0.0058 - accuracy: 0.9981 - val_loss: 0.0656 - val_accuracy: 0.9871\n",
            "Epoch 27/100\n",
            "469/469 [==============================] - 4s 8ms/step - loss: 0.0057 - accuracy: 0.9984 - val_loss: 0.0595 - val_accuracy: 0.9890\n",
            "Epoch 28/100\n",
            "469/469 [==============================] - 5s 10ms/step - loss: 0.0054 - accuracy: 0.9983 - val_loss: 0.0663 - val_accuracy: 0.9867\n",
            "Epoch 29/100\n",
            "469/469 [==============================] - 4s 8ms/step - loss: 0.0086 - accuracy: 0.9974 - val_loss: 0.0652 - val_accuracy: 0.9854\n",
            "Epoch 30/100\n",
            "469/469 [==============================] - 4s 8ms/step - loss: 0.0048 - accuracy: 0.9986 - val_loss: 0.0603 - val_accuracy: 0.9886\n",
            "Epoch 31/100\n",
            "469/469 [==============================] - 5s 10ms/step - loss: 0.0051 - accuracy: 0.9986 - val_loss: 0.0693 - val_accuracy: 0.9874\n",
            "Epoch 32/100\n",
            "469/469 [==============================] - 4s 8ms/step - loss: 0.0060 - accuracy: 0.9982 - val_loss: 0.0745 - val_accuracy: 0.9862\n",
            "Epoch 33/100\n",
            "469/469 [==============================] - 4s 9ms/step - loss: 0.0051 - accuracy: 0.9984 - val_loss: 0.0637 - val_accuracy: 0.9886\n",
            "Epoch 34/100\n",
            "469/469 [==============================] - 5s 10ms/step - loss: 0.0051 - accuracy: 0.9984 - val_loss: 0.0595 - val_accuracy: 0.9888\n",
            "Epoch 35/100\n",
            "469/469 [==============================] - 4s 9ms/step - loss: 0.0039 - accuracy: 0.9989 - val_loss: 0.0589 - val_accuracy: 0.9899\n",
            "Epoch 36/100\n",
            "469/469 [==============================] - 4s 8ms/step - loss: 0.0058 - accuracy: 0.9983 - val_loss: 0.0743 - val_accuracy: 0.9872\n",
            "Epoch 37/100\n",
            "469/469 [==============================] - 5s 10ms/step - loss: 0.0068 - accuracy: 0.9981 - val_loss: 0.0618 - val_accuracy: 0.9891\n",
            "Epoch 38/100\n",
            "469/469 [==============================] - 4s 8ms/step - loss: 0.0023 - accuracy: 0.9993 - val_loss: 0.0568 - val_accuracy: 0.9898\n",
            "Epoch 39/100\n",
            "469/469 [==============================] - 4s 8ms/step - loss: 0.0038 - accuracy: 0.9988 - val_loss: 0.0826 - val_accuracy: 0.9853\n",
            "Epoch 40/100\n",
            "469/469 [==============================] - 6s 12ms/step - loss: 0.0049 - accuracy: 0.9985 - val_loss: 0.0669 - val_accuracy: 0.9883\n",
            "Epoch 41/100\n",
            "469/469 [==============================] - 4s 9ms/step - loss: 0.0049 - accuracy: 0.9985 - val_loss: 0.0705 - val_accuracy: 0.9871\n",
            "Epoch 42/100\n",
            "469/469 [==============================] - 4s 8ms/step - loss: 0.0048 - accuracy: 0.9984 - val_loss: 0.0564 - val_accuracy: 0.9904\n",
            "Epoch 43/100\n",
            "469/469 [==============================] - 5s 10ms/step - loss: 0.0018 - accuracy: 0.9995 - val_loss: 0.0542 - val_accuracy: 0.9909\n",
            "Epoch 44/100\n",
            "469/469 [==============================] - 4s 9ms/step - loss: 0.0036 - accuracy: 0.9990 - val_loss: 0.0618 - val_accuracy: 0.9894\n",
            "Epoch 45/100\n",
            "469/469 [==============================] - 4s 9ms/step - loss: 0.0044 - accuracy: 0.9987 - val_loss: 0.0669 - val_accuracy: 0.9882\n",
            "Epoch 46/100\n",
            "469/469 [==============================] - 5s 10ms/step - loss: 0.0029 - accuracy: 0.9991 - val_loss: 0.0699 - val_accuracy: 0.9893\n",
            "Epoch 47/100\n",
            "469/469 [==============================] - 4s 9ms/step - loss: 0.0039 - accuracy: 0.9988 - val_loss: 0.0637 - val_accuracy: 0.9891\n",
            "Epoch 48/100\n",
            "469/469 [==============================] - 4s 8ms/step - loss: 0.0019 - accuracy: 0.9994 - val_loss: 0.0655 - val_accuracy: 0.9882\n",
            "Epoch 49/100\n",
            "469/469 [==============================] - 5s 10ms/step - loss: 0.0033 - accuracy: 0.9991 - val_loss: 0.0755 - val_accuracy: 0.9880\n",
            "Epoch 50/100\n",
            "469/469 [==============================] - 4s 8ms/step - loss: 0.0044 - accuracy: 0.9987 - val_loss: 0.0719 - val_accuracy: 0.9880\n",
            "Epoch 51/100\n",
            "469/469 [==============================] - 4s 8ms/step - loss: 0.0032 - accuracy: 0.9990 - val_loss: 0.0598 - val_accuracy: 0.9889\n",
            "Epoch 52/100\n",
            "469/469 [==============================] - 5s 10ms/step - loss: 0.0026 - accuracy: 0.9993 - val_loss: 0.0768 - val_accuracy: 0.9883\n",
            "Epoch 53/100\n",
            "469/469 [==============================] - 4s 8ms/step - loss: 0.0060 - accuracy: 0.9985 - val_loss: 0.0603 - val_accuracy: 0.9901\n",
            "Epoch 54/100\n",
            "469/469 [==============================] - 4s 9ms/step - loss: 0.0039 - accuracy: 0.9989 - val_loss: 0.0676 - val_accuracy: 0.9883\n",
            "Epoch 55/100\n",
            "469/469 [==============================] - 5s 10ms/step - loss: 0.0021 - accuracy: 0.9993 - val_loss: 0.0712 - val_accuracy: 0.9891\n",
            "Epoch 56/100\n",
            "469/469 [==============================] - 4s 9ms/step - loss: 0.0027 - accuracy: 0.9993 - val_loss: 0.0616 - val_accuracy: 0.9910\n",
            "Epoch 57/100\n",
            "469/469 [==============================] - 4s 8ms/step - loss: 0.0047 - accuracy: 0.9986 - val_loss: 0.0714 - val_accuracy: 0.9878\n",
            "Epoch 58/100\n",
            "469/469 [==============================] - 5s 10ms/step - loss: 7.4335e-04 - accuracy: 0.9998 - val_loss: 0.0677 - val_accuracy: 0.9904\n",
            "Epoch 59/100\n",
            "469/469 [==============================] - 4s 8ms/step - loss: 0.0042 - accuracy: 0.9988 - val_loss: 0.0658 - val_accuracy: 0.9883\n",
            "Epoch 60/100\n",
            "469/469 [==============================] - 4s 8ms/step - loss: 0.0021 - accuracy: 0.9995 - val_loss: 0.0669 - val_accuracy: 0.9889\n",
            "Epoch 61/100\n",
            "469/469 [==============================] - 5s 10ms/step - loss: 0.0027 - accuracy: 0.9992 - val_loss: 0.0757 - val_accuracy: 0.9891\n",
            "Epoch 62/100\n",
            "469/469 [==============================] - 4s 9ms/step - loss: 0.0025 - accuracy: 0.9993 - val_loss: 0.0840 - val_accuracy: 0.9874\n",
            "Epoch 63/100\n",
            "469/469 [==============================] - 4s 9ms/step - loss: 0.0018 - accuracy: 0.9995 - val_loss: 0.0748 - val_accuracy: 0.9893\n",
            "Epoch 64/100\n",
            "469/469 [==============================] - 5s 10ms/step - loss: 2.7058e-04 - accuracy: 0.9999 - val_loss: 0.0763 - val_accuracy: 0.9897\n",
            "Epoch 65/100\n",
            "469/469 [==============================] - 4s 9ms/step - loss: 0.0020 - accuracy: 0.9996 - val_loss: 0.1071 - val_accuracy: 0.9828\n",
            "Epoch 66/100\n",
            "469/469 [==============================] - 4s 9ms/step - loss: 0.0050 - accuracy: 0.9985 - val_loss: 0.0887 - val_accuracy: 0.9869\n",
            "Epoch 67/100\n",
            "469/469 [==============================] - 5s 11ms/step - loss: 0.0028 - accuracy: 0.9991 - val_loss: 0.0773 - val_accuracy: 0.9900\n",
            "Epoch 68/100\n",
            "469/469 [==============================] - 4s 8ms/step - loss: 0.0034 - accuracy: 0.9991 - val_loss: 0.0661 - val_accuracy: 0.9903\n",
            "Epoch 69/100\n",
            "469/469 [==============================] - 4s 9ms/step - loss: 0.0030 - accuracy: 0.9990 - val_loss: 0.0608 - val_accuracy: 0.9915\n",
            "Epoch 70/100\n",
            "469/469 [==============================] - 5s 10ms/step - loss: 0.0031 - accuracy: 0.9991 - val_loss: 0.0835 - val_accuracy: 0.9892\n",
            "Epoch 71/100\n",
            "469/469 [==============================] - 5s 10ms/step - loss: 0.0035 - accuracy: 0.9988 - val_loss: 0.0714 - val_accuracy: 0.9896\n",
            "Epoch 72/100\n",
            "469/469 [==============================] - 5s 10ms/step - loss: 0.0050 - accuracy: 0.9987 - val_loss: 0.0716 - val_accuracy: 0.9883\n",
            "Epoch 73/100\n",
            "469/469 [==============================] - 4s 9ms/step - loss: 0.0011 - accuracy: 0.9996 - val_loss: 0.0729 - val_accuracy: 0.9897\n",
            "Epoch 74/100\n",
            "469/469 [==============================] - 6s 13ms/step - loss: 6.3880e-04 - accuracy: 0.9998 - val_loss: 0.0734 - val_accuracy: 0.9902\n",
            "Epoch 75/100\n",
            "469/469 [==============================] - 8s 16ms/step - loss: 0.0032 - accuracy: 0.9991 - val_loss: 0.0779 - val_accuracy: 0.9896\n",
            "Epoch 76/100\n",
            "469/469 [==============================] - 4s 9ms/step - loss: 0.0015 - accuracy: 0.9995 - val_loss: 0.0721 - val_accuracy: 0.9897\n",
            "Epoch 77/100\n",
            "469/469 [==============================] - 4s 9ms/step - loss: 0.0019 - accuracy: 0.9994 - val_loss: 0.0923 - val_accuracy: 0.9875\n",
            "Epoch 78/100\n",
            "469/469 [==============================] - 4s 9ms/step - loss: 0.0034 - accuracy: 0.9990 - val_loss: 0.0858 - val_accuracy: 0.9870\n",
            "Epoch 79/100\n",
            "469/469 [==============================] - 4s 9ms/step - loss: 8.6756e-04 - accuracy: 0.9998 - val_loss: 0.0699 - val_accuracy: 0.9896\n",
            "Epoch 80/100\n",
            "469/469 [==============================] - 5s 10ms/step - loss: 9.4602e-04 - accuracy: 0.9997 - val_loss: 0.0965 - val_accuracy: 0.9876\n",
            "Epoch 81/100\n",
            "469/469 [==============================] - 4s 8ms/step - loss: 0.0013 - accuracy: 0.9997 - val_loss: 0.0839 - val_accuracy: 0.9892\n",
            "Epoch 82/100\n",
            "469/469 [==============================] - 4s 9ms/step - loss: 0.0032 - accuracy: 0.9991 - val_loss: 0.0851 - val_accuracy: 0.9877\n",
            "Epoch 83/100\n",
            "469/469 [==============================] - 5s 10ms/step - loss: 0.0058 - accuracy: 0.9983 - val_loss: 0.0824 - val_accuracy: 0.9880\n",
            "Epoch 84/100\n",
            "469/469 [==============================] - 4s 9ms/step - loss: 0.0029 - accuracy: 0.9991 - val_loss: 0.0745 - val_accuracy: 0.9886\n",
            "Epoch 85/100\n",
            "469/469 [==============================] - 4s 9ms/step - loss: 0.0010 - accuracy: 0.9997 - val_loss: 0.0781 - val_accuracy: 0.9899\n",
            "Epoch 86/100\n",
            "469/469 [==============================] - 5s 10ms/step - loss: 0.0014 - accuracy: 0.9996 - val_loss: 0.0854 - val_accuracy: 0.9888\n",
            "Epoch 87/100\n",
            "469/469 [==============================] - 4s 9ms/step - loss: 0.0026 - accuracy: 0.9992 - val_loss: 0.0724 - val_accuracy: 0.9898\n",
            "Epoch 88/100\n",
            "469/469 [==============================] - 4s 9ms/step - loss: 0.0025 - accuracy: 0.9992 - val_loss: 0.0804 - val_accuracy: 0.9895\n",
            "Epoch 89/100\n",
            "469/469 [==============================] - 6s 12ms/step - loss: 0.0015 - accuracy: 0.9996 - val_loss: 0.0774 - val_accuracy: 0.9895\n",
            "Epoch 90/100\n",
            "469/469 [==============================] - 4s 9ms/step - loss: 0.0025 - accuracy: 0.9993 - val_loss: 0.0862 - val_accuracy: 0.9883\n",
            "Epoch 91/100\n",
            "469/469 [==============================] - 4s 8ms/step - loss: 0.0029 - accuracy: 0.9991 - val_loss: 0.0712 - val_accuracy: 0.9895\n",
            "Epoch 92/100\n",
            "469/469 [==============================] - 5s 10ms/step - loss: 9.8159e-04 - accuracy: 0.9996 - val_loss: 0.0773 - val_accuracy: 0.9902\n",
            "Epoch 93/100\n",
            "469/469 [==============================] - 4s 9ms/step - loss: 0.0023 - accuracy: 0.9994 - val_loss: 0.0880 - val_accuracy: 0.9882\n",
            "Epoch 94/100\n",
            "469/469 [==============================] - 4s 8ms/step - loss: 0.0025 - accuracy: 0.9993 - val_loss: 0.0727 - val_accuracy: 0.9904\n",
            "Epoch 95/100\n",
            "469/469 [==============================] - 5s 10ms/step - loss: 8.5258e-04 - accuracy: 0.9997 - val_loss: 0.0795 - val_accuracy: 0.9896\n",
            "Epoch 96/100\n",
            "469/469 [==============================] - 4s 9ms/step - loss: 5.3856e-04 - accuracy: 0.9998 - val_loss: 0.0789 - val_accuracy: 0.9895\n",
            "Epoch 97/100\n",
            "469/469 [==============================] - 4s 9ms/step - loss: 0.0033 - accuracy: 0.9990 - val_loss: 0.0791 - val_accuracy: 0.9894\n",
            "Epoch 98/100\n",
            "469/469 [==============================] - 6s 12ms/step - loss: 7.5482e-04 - accuracy: 0.9997 - val_loss: 0.0836 - val_accuracy: 0.9897\n",
            "Epoch 99/100\n",
            "469/469 [==============================] - 4s 9ms/step - loss: 5.4043e-04 - accuracy: 0.9998 - val_loss: 0.1059 - val_accuracy: 0.9882\n",
            "Epoch 100/100\n",
            "469/469 [==============================] - 4s 8ms/step - loss: 0.0043 - accuracy: 0.9989 - val_loss: 0.0877 - val_accuracy: 0.9891\n"
          ]
        }
      ]
    },
    {
      "cell_type": "code",
      "source": [
        "# Model değerlendirme\n",
        "test_loss, test_acc = model.evaluate(x_test, y_test, verbose=0)\n",
        "print('Test accuracy:', test_acc)\n",
        "print('Test loss:', test_loss)"
      ],
      "metadata": {
        "colab": {
          "base_uri": "https://localhost:8080/"
        },
        "id": "8ljc6IURWdVc",
        "outputId": "138ea7fb-6a1d-44b2-bb62-81d17d7d001d"
      },
      "execution_count": null,
      "outputs": [
        {
          "output_type": "stream",
          "name": "stdout",
          "text": [
            "Test accuracy: 0.9890999794006348\n",
            "Test loss: 0.08773528039455414\n"
          ]
        }
      ]
    },
    {
      "cell_type": "code",
      "source": [
        "import matplotlib.pyplot as plt\n",
        "\n",
        "# Accuracy değerleri\n",
        "acc = history.history['accuracy']\n",
        "val_acc = history.history['val_accuracy']\n",
        "\n",
        "# Eğitim ve doğrulama Accuracy değerlerini grafik olarak çizdirme\n",
        "plt.plot(acc, label='Training Accuracy')\n",
        "plt.plot(val_acc, label='Validation Accuracy')\n",
        "plt.legend()\n",
        "plt.show()"
      ],
      "metadata": {
        "colab": {
          "base_uri": "https://localhost:8080/",
          "height": 430
        },
        "id": "gnGjN0yrWwgx",
        "outputId": "810fd190-9db5-4fc5-f6f2-144af83e49ef"
      },
      "execution_count": null,
      "outputs": [
        {
          "output_type": "display_data",
          "data": {
            "text/plain": [
              "<Figure size 640x480 with 1 Axes>"
            ],
            "image/png": "[encoded data removed]"
          },
          "metadata": {}
        }
      ]
    },
    {
      "cell_type": "code",
      "source": [
        "# Loss değerleri\n",
        "loss = history.history['loss']\n",
        "val_loss = history.history['val_loss']\n",
        "\n",
        "# Eğitim ve doğrulama Loss değerlerini grafik olarak çizdirme\n",
        "plt.plot(loss, label='Training Loss')\n",
        "plt.plot(val_loss, label='Validation Loss')\n",
        "plt.legend()\n",
        "plt.show()"
      ],
      "metadata": {
        "colab": {
          "base_uri": "https://localhost:8080/",
          "height": 430
        },
        "id": "PtUKv7NhW4qJ",
        "outputId": "7990c563-2503-468d-e1d5-136851ebd3f7"
      },
      "execution_count": null,
      "outputs": [
        {
          "output_type": "display_data",
          "data": {
            "text/plain": [
              "<Figure size 640x480 with 1 Axes>"
            ],
            "image/png": "[encoded data removed]"
          },
          "metadata": {}
        }
      ]
    }
  ]
}