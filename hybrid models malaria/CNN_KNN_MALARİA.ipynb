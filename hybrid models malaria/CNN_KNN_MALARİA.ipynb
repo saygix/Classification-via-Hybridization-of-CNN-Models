{
  "cells": [
    {
      "cell_type": "code",
      "execution_count": null,
      "metadata": {
        "id": "1jFXOPuZj1qQ"
      },
      "outputs": [],
      "source": [
        "import os\n",
        "import numpy as np\n",
        "from PIL import Image\n",
        "\n",
        "# Veri seti yolu\n",
        "data_path = \"/content/drive/MyDrive/malaria/cell_images/cell_images\"\n",
        "\n",
        "# Sınıf etiketleri\n",
        "class_names = [\"Parasitized\", \"Uninfected\"]\n",
        "\n",
        "# Veri setindeki görüntü sayısı\n",
        "num_samples = sum([len(files) for r, d, files in os.walk(data_path)])\n",
        "\n",
        "# Veri seti boyutları\n",
        "img_height, img_width = 64, 64\n",
        "num_channels = 3\n",
        "\n",
        "# X ve y için numpy dizileri\n",
        "X = np.zeros((num_samples, img_height, img_width, num_channels), dtype=np.float32)\n",
        "y = np.zeros((num_samples,), dtype=np.int32)\n",
        "\n",
        "# Verileri yükleyip numpy dizilerine dönüştürme\n",
        "index = 0\n",
        "for i, class_name in enumerate(class_names):\n",
        "    class_path = os.path.join(data_path, class_name)\n",
        "    for img_name in os.listdir(class_path):\n",
        "        img_path = os.path.join(class_path, img_name)\n",
        "        img = Image.open(img_path)\n",
        "        img = img.resize((img_height, img_width))\n",
        "        X[index] = np.array(img, dtype=np.float32) / 255.\n",
        "        y[index] = i\n",
        "        index += 1\n",
        "\n",
        "# Veri setini karıştırma\n",
        "np.random.seed(42)\n",
        "shuffle_index = np.random.permutation(num_samples)\n",
        "X, y = X[shuffle_index], y[shuffle_index]\n",
        "\n",
        "# Veri setini train, test ve validation olarak ayırma\n",
        "num_train_samples = int(0.7 * num_samples)\n",
        "num_test_samples = int(0.2 * num_samples)\n",
        "num_val_samples = num_samples - num_train_samples - num_test_samples\n",
        "\n",
        "x_train, y_train = X[:num_train_samples], y[:num_train_samples]\n",
        "x_test, y_test = X[num_train_samples:num_train_samples+num_test_samples], y[num_train_samples:num_train_samples+num_test_samples]\n",
        "x_val, y_val = X[num_train_samples+num_test_samples:], y[num_train_samples+num_test_samples:]\n",
        "\n",
        "# Dizileri npy dosyalarına kaydetme\n",
        "np.save('x_train.npy', x_train)\n",
        "np.save('y_train.npy', y_train)\n",
        "np.save('x_test.npy', x_test)\n",
        "np.save('y_test.npy', y_test)\n",
        "np.save('x_val.npy', x_val)\n",
        "np.save('y_val.npy', y_val)\n"
      ]
    },
    {
      "cell_type": "code",
      "execution_count": null,
      "metadata": {
        "id": "EXcpaRQOlm3W"
      },
      "outputs": [],
      "source": [
        "import numpy as np\n",
        "from keras.layers import Conv2D, MaxPooling2D, Flatten, Dense\n",
        "from keras.models import Sequential\n",
        "from sklearn.neighbors import KNeighborsClassifier\n",
        "from sklearn.metrics import accuracy_score, precision_score, recall_score\n"
      ]
    },
    {
      "cell_type": "code",
      "execution_count": null,
      "metadata": {
        "id": "419d2NE-lnal"
      },
      "outputs": [],
      "source": [
        "# Dizileri yükleme\n",
        "x_train = np.load('x_train.npy')\n",
        "y_train = np.load('y_train.npy')\n",
        "x_test = np.load('x_test.npy')\n",
        "y_test = np.load('y_test.npy')\n",
        "x_val = np.load('x_val.npy')\n",
        "y_val = np.load('y_val.npy')"
      ]
    },
    {
      "cell_type": "code",
      "execution_count": null,
      "metadata": {
        "id": "5Ri8l4k8lrYy"
      },
      "outputs": [],
      "source": [
        "# CNN Modelini Oluşturma\n",
        "cnn_model = Sequential()\n",
        "cnn_model.add(Conv2D(32, (3, 3), activation='relu', input_shape=(img_height, img_width, num_channels)))\n",
        "cnn_model.add(MaxPooling2D(pool_size=(2, 2)))\n",
        "cnn_model.add(Conv2D(64, (3, 3), activation='relu'))\n",
        "cnn_model.add(MaxPooling2D(pool_size=(2, 2)))\n",
        "cnn_model.add(Flatten())\n",
        "cnn_model.add(Dense(128, activation='relu'))\n",
        "cnn_model.add(Dense(1, activation='sigmoid'))\n"
      ]
    },
    {
      "cell_type": "code",
      "execution_count": null,
      "metadata": {
        "id": "CnGEiYMmltcp",
        "colab": {
          "base_uri": "https://localhost:8080/"
        },
        "outputId": "9ea6b6e4-0e17-4e94-8756-6f665798fdd7"
      },
      "outputs": [
        {
          "output_type": "stream",
          "name": "stdout",
          "text": [
            "Epoch 1/10\n",
            "603/603 [==============================] - 17s 9ms/step - loss: 0.4535 - accuracy: 0.7823 - val_loss: 0.2848 - val_accuracy: 0.8923\n",
            "Epoch 2/10\n",
            "603/603 [==============================] - 6s 9ms/step - loss: 0.2028 - accuracy: 0.9252 - val_loss: 0.2359 - val_accuracy: 0.9159\n",
            "Epoch 3/10\n",
            "603/603 [==============================] - 5s 8ms/step - loss: 0.1755 - accuracy: 0.9402 - val_loss: 0.1942 - val_accuracy: 0.9405\n",
            "Epoch 4/10\n",
            "603/603 [==============================] - 4s 7ms/step - loss: 0.1434 - accuracy: 0.9545 - val_loss: 0.1687 - val_accuracy: 0.9420\n",
            "Epoch 5/10\n",
            "603/603 [==============================] - 6s 9ms/step - loss: 0.1216 - accuracy: 0.9598 - val_loss: 0.1700 - val_accuracy: 0.9470\n",
            "Epoch 6/10\n",
            "603/603 [==============================] - 7s 11ms/step - loss: 0.1003 - accuracy: 0.9660 - val_loss: 0.1704 - val_accuracy: 0.9394\n",
            "Epoch 7/10\n",
            "603/603 [==============================] - 6s 10ms/step - loss: 0.0791 - accuracy: 0.9743 - val_loss: 0.1734 - val_accuracy: 0.9474\n",
            "Epoch 8/10\n",
            "603/603 [==============================] - 4s 6ms/step - loss: 0.0634 - accuracy: 0.9781 - val_loss: 0.2117 - val_accuracy: 0.9460\n",
            "Epoch 9/10\n",
            "603/603 [==============================] - 5s 8ms/step - loss: 0.0442 - accuracy: 0.9850 - val_loss: 0.2267 - val_accuracy: 0.9445\n",
            "Epoch 10/10\n",
            "603/603 [==============================] - 4s 6ms/step - loss: 0.0364 - accuracy: 0.9876 - val_loss: 0.2560 - val_accuracy: 0.9434\n"
          ]
        },
        {
          "output_type": "execute_result",
          "data": {
            "text/plain": [
              "<keras.callbacks.History at 0x7f447c0bf610>"
            ]
          },
          "metadata": {},
          "execution_count": 5
        }
      ],
      "source": [
        "# CNN Modelini eğitme\n",
        "cnn_model.compile(optimizer='adam', loss='binary_crossentropy', metrics=['accuracy'])\n",
        "cnn_model.fit(x_train, y_train, epochs=10, batch_size=32, validation_data=(x_val, y_val))"
      ]
    },
    {
      "cell_type": "code",
      "execution_count": null,
      "metadata": {
        "id": "itRZqw1lkH_u",
        "colab": {
          "base_uri": "https://localhost:8080/"
        },
        "outputId": "955c1613-904b-48db-997c-1f2fe1d13d0d"
      },
      "outputs": [
        {
          "output_type": "stream",
          "name": "stdout",
          "text": [
            "603/603 [==============================] - 2s 3ms/step\n",
            "173/173 [==============================] - 1s 3ms/step\n"
          ]
        }
      ],
      "source": [
        "# CNN'nin özelliklerini çıkarın\n",
        "train_features = cnn_model.predict(x_train)\n",
        "test_features = cnn_model.predict(x_test)"
      ]
    },
    {
      "cell_type": "code",
      "execution_count": null,
      "metadata": {
        "id": "m63bTdILl1lS",
        "colab": {
          "base_uri": "https://localhost:8080/",
          "height": 75
        },
        "outputId": "09d68370-4896-4607-ab82-a06b60642f82"
      },
      "outputs": [
        {
          "output_type": "execute_result",
          "data": {
            "text/plain": [
              "KNeighborsClassifier()"
            ],
            "text/html": [
              "<style>#sk-container-id-1 {color: black;background-color: white;}#sk-container-id-1 pre{padding: 0;}#sk-container-id-1 div.sk-toggleable {background-color: white;}#sk-container-id-1 label.sk-toggleable__label {cursor: pointer;display: block;width: 100%;margin-bottom: 0;padding: 0.3em;box-sizing: border-box;text-align: center;}#sk-container-id-1 label.sk-toggleable__label-arrow:before {content: \"▸\";float: left;margin-right: 0.25em;color: #696969;}#sk-container-id-1 label.sk-toggleable__label-arrow:hover:before {color: black;}#sk-container-id-1 div.sk-estimator:hover label.sk-toggleable__label-arrow:before {color: black;}#sk-container-id-1 div.sk-toggleable__content {max-height: 0;max-width: 0;overflow: hidden;text-align: left;background-color: #f0f8ff;}#sk-container-id-1 div.sk-toggleable__content pre {margin: 0.2em;color: black;border-radius: 0.25em;background-color: #f0f8ff;}#sk-container-id-1 input.sk-toggleable__control:checked~div.sk-toggleable__content {max-height: 200px;max-width: 100%;overflow: auto;}#sk-container-id-1 input.sk-toggleable__control:checked~label.sk-toggleable__label-arrow:before {content: \"▾\";}#sk-container-id-1 div.sk-estimator input.sk-toggleable__control:checked~label.sk-toggleable__label {background-color: #d4ebff;}#sk-container-id-1 div.sk-label input.sk-toggleable__control:checked~label.sk-toggleable__label {background-color: #d4ebff;}#sk-container-id-1 input.sk-hidden--visually {border: 0;clip: rect(1px 1px 1px 1px);clip: rect(1px, 1px, 1px, 1px);height: 1px;margin: -1px;overflow: hidden;padding: 0;position: absolute;width: 1px;}#sk-container-id-1 div.sk-estimator {font-family: monospace;background-color: #f0f8ff;border: 1px dotted black;border-radius: 0.25em;box-sizing: border-box;margin-bottom: 0.5em;}#sk-container-id-1 div.sk-estimator:hover {background-color: #d4ebff;}#sk-container-id-1 div.sk-parallel-item::after {content: \"\";width: 100%;border-bottom: 1px solid gray;flex-grow: 1;}#sk-container-id-1 div.sk-label:hover label.sk-toggleable__label {background-color: #d4ebff;}#sk-container-id-1 div.sk-serial::before {content: \"\";position: absolute;border-left: 1px solid gray;box-sizing: border-box;top: 0;bottom: 0;left: 50%;z-index: 0;}#sk-container-id-1 div.sk-serial {display: flex;flex-direction: column;align-items: center;background-color: white;padding-right: 0.2em;padding-left: 0.2em;position: relative;}#sk-container-id-1 div.sk-item {position: relative;z-index: 1;}#sk-container-id-1 div.sk-parallel {display: flex;align-items: stretch;justify-content: center;background-color: white;position: relative;}#sk-container-id-1 div.sk-item::before, #sk-container-id-1 div.sk-parallel-item::before {content: \"\";position: absolute;border-left: 1px solid gray;box-sizing: border-box;top: 0;bottom: 0;left: 50%;z-index: -1;}#sk-container-id-1 div.sk-parallel-item {display: flex;flex-direction: column;z-index: 1;position: relative;background-color: white;}#sk-container-id-1 div.sk-parallel-item:first-child::after {align-self: flex-end;width: 50%;}#sk-container-id-1 div.sk-parallel-item:last-child::after {align-self: flex-start;width: 50%;}#sk-container-id-1 div.sk-parallel-item:only-child::after {width: 0;}#sk-container-id-1 div.sk-dashed-wrapped {border: 1px dashed gray;margin: 0 0.4em 0.5em 0.4em;box-sizing: border-box;padding-bottom: 0.4em;background-color: white;}#sk-container-id-1 div.sk-label label {font-family: monospace;font-weight: bold;display: inline-block;line-height: 1.2em;}#sk-container-id-1 div.sk-label-container {text-align: center;}#sk-container-id-1 div.sk-container {/* jupyter's `normalize.less` sets `[hidden] { display: none; }` but bootstrap.min.css set `[hidden] { display: none !important; }` so we also need the `!important` here to be able to override the default hidden behavior on the sphinx rendered scikit-learn.org. See: https://github.com/scikit-learn/scikit-learn/issues/21755 */display: inline-block !important;position: relative;}#sk-container-id-1 div.sk-text-repr-fallback {display: none;}</style><div id=\"sk-container-id-1\" class=\"sk-top-container\"><div class=\"sk-text-repr-fallback\"><pre>KNeighborsClassifier()</pre><b>In a Jupyter environment, please rerun this cell to show the HTML representation or trust the notebook. <br />On GitHub, the HTML representation is unable to render, please try loading this page with nbviewer.org.</b></div><div class=\"sk-container\" hidden><div class=\"sk-item\"><div class=\"sk-estimator sk-toggleable\"><input class=\"sk-toggleable__control sk-hidden--visually\" id=\"sk-estimator-id-1\" type=\"checkbox\" checked><label for=\"sk-estimator-id-1\" class=\"sk-toggleable__label sk-toggleable__label-arrow\">KNeighborsClassifier</label><div class=\"sk-toggleable__content\"><pre>KNeighborsClassifier()</pre></div></div></div></div></div>"
            ]
          },
          "metadata": {},
          "execution_count": 7
        }
      ],
      "source": [
        "# KNN Modelini Oluşturma ve eğitme\n",
        "knn_model = KNeighborsClassifier(n_neighbors=5)\n",
        "knn_model.fit(train_features, y_train)\n"
      ]
    },
    {
      "cell_type": "code",
      "source": [
        "# Hibrit modelin performansını değerlendirme\n",
        "train_predictions = knn_model.predict(train_features)\n",
        "test_predictions = knn_model.predict(test_features)\n",
        "\n",
        "train_accuracy = accuracy_score(y_train, train_predictions)\n",
        "test_accuracy = accuracy_score(y_test, test_predictions)\n",
        "\n",
        "print(\"Eğitim verisi doğruluğu:\", train_accuracy)\n",
        "print(\"Test verisi doğruluğu:\", test_accuracy)\n"
      ],
      "metadata": {
        "colab": {
          "base_uri": "https://localhost:8080/"
        },
        "id": "ICzHhJQs8Jv_",
        "outputId": "f68e542e-849e-49b0-d0d4-c5f6405eaf5f"
      },
      "execution_count": null,
      "outputs": [
        {
          "output_type": "stream",
          "name": "stdout",
          "text": [
            "Eğitim verisi doğruluğu: 0.9923794712286159\n",
            "Test verisi doğruluğu: 0.9491925240428234\n"
          ]
        }
      ]
    },
    {
      "cell_type": "code",
      "execution_count": null,
      "metadata": {
        "id": "vVVwsOZ5l3Tx"
      },
      "outputs": [],
      "source": [
        "# Modeli değerlendirme\n",
        "knn_predictions = knn_model.predict(test_features)\n",
        "accuracy = accuracy_score(y_test, knn_predictions)\n",
        "precision = precision_score(y_test, knn_predictions)\n",
        "recall = recall_score(y_test, knn_predictions)"
      ]
    },
    {
      "cell_type": "code",
      "execution_count": null,
      "metadata": {
        "id": "DuNY7voQl5gh",
        "colab": {
          "base_uri": "https://localhost:8080/"
        },
        "outputId": "ed75e073-eb60-471b-c58c-9b8cc41f997f"
      },
      "outputs": [
        {
          "output_type": "stream",
          "name": "stdout",
          "text": [
            "Accuracy: 0.9490110687715478\n",
            "Precision: 0.9470880681818182\n",
            "Recall: 0.9528403001071811\n"
          ]
        }
      ],
      "source": [
        "print(\"Accuracy:\", accuracy)\n",
        "print(\"Precision:\", precision)\n",
        "print(\"Recall:\", recall)"
      ]
    }
  ],
  "metadata": {
    "accelerator": "GPU",
    "colab": {
      "provenance": []
    },
    "gpuClass": "standard",
    "kernelspec": {
      "display_name": "Python 3",
      "name": "python3"
    },
    "language_info": {
      "name": "python"
    }
  },
  "nbformat": 4,
  "nbformat_minor": 0
}